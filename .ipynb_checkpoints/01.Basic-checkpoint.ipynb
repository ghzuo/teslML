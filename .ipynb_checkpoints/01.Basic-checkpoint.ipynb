{
 "cells": [
  {
   "cell_type": "markdown",
   "id": "21948f88-1af2-4426-8561-7b6c6c4cb7d0",
   "metadata": {},
   "source": [
    "# For Object"
   ]
  },
  {
   "cell_type": "code",
   "execution_count": 1,
   "id": "fc16e186-6d7f-40f2-b7b5-a15f1948f9bf",
   "metadata": {},
   "outputs": [
    {
     "name": "stdout",
     "output_type": "stream",
     "text": [
      "a = 3, b = 4\n"
     ]
    }
   ],
   "source": [
    "a = 3\n",
    "b = a\n",
    "b = 4\n",
    "print(\"a = {}, b = {}\".format(a,b))"
   ]
  },
  {
   "cell_type": "code",
   "execution_count": 2,
   "id": "76d3c2fd-0a98-4d5a-b648-fdd1a5708b72",
   "metadata": {},
   "outputs": [
    {
     "name": "stdout",
     "output_type": "stream",
     "text": [
      "a = 4, b = 4\n"
     ]
    }
   ],
   "source": [
    "a = [3]\n",
    "b = a\n",
    "b[0] = 4\n",
    "print(\"a[0] = {}, b[0] = {}\".format(a[0],b[0]))"
   ]
  },
  {
   "cell_type": "code",
   "execution_count": null,
   "id": "f435f9a6-087e-4496-bae4-fb29b744a5f1",
   "metadata": {},
   "outputs": [],
   "source": []
  }
 ],
 "metadata": {
  "kernelspec": {
   "display_name": "Python 3",
   "language": "python",
   "name": "python3"
  },
  "language_info": {
   "codemirror_mode": {
    "name": "ipython",
    "version": 3
   },
   "file_extension": ".py",
   "mimetype": "text/x-python",
   "name": "python",
   "nbconvert_exporter": "python",
   "pygments_lexer": "ipython3",
   "version": "3.7.7"
  }
 },
 "nbformat": 4,
 "nbformat_minor": 5
}
