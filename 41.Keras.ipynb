{
 "cells": [
  {
   "cell_type": "code",
   "execution_count": 1,
   "id": "33ca4577-db26-43a5-ae1b-5778abd32e14",
   "metadata": {
    "execution": {
     "iopub.execute_input": "2022-09-06T03:28:19.144821Z",
     "iopub.status.busy": "2022-09-06T03:28:19.144546Z",
     "iopub.status.idle": "2022-09-06T03:28:19.794837Z",
     "shell.execute_reply": "2022-09-06T03:28:19.794332Z",
     "shell.execute_reply.started": "2022-09-06T03:28:19.144776Z"
    }
   },
   "outputs": [],
   "source": [
    "import pandas as pd\n",
    "import matplotlib.pyplot as plt"
   ]
  },
  {
   "cell_type": "markdown",
   "id": "81ee81e5-6657-410f-83bf-92808476d328",
   "metadata": {},
   "source": [
    "# Keras on Tensorflow"
   ]
  },
  {
   "cell_type": "code",
   "execution_count": 2,
   "id": "4fa3ba0a-016b-47b4-a1fa-bc2052f5faf9",
   "metadata": {
    "execution": {
     "iopub.execute_input": "2022-09-06T03:28:19.795868Z",
     "iopub.status.busy": "2022-09-06T03:28:19.795669Z",
     "iopub.status.idle": "2022-09-06T03:28:21.281089Z",
     "shell.execute_reply": "2022-09-06T03:28:21.280680Z",
     "shell.execute_reply.started": "2022-09-06T03:28:19.795850Z"
    }
   },
   "outputs": [
    {
     "name": "stderr",
     "output_type": "stream",
     "text": [
      "/home/ghzuo/opt/anaconda3/lib/python3.9/site-packages/scipy/__init__.py:146: UserWarning: A NumPy version >=1.16.5 and <1.23.0 is required for this version of SciPy (detected version 1.23.1\n",
      "  warnings.warn(f\"A NumPy version >={np_minversion} and <{np_maxversion}\"\n"
     ]
    }
   ],
   "source": [
    "from tensorflow import keras\n",
    "from tensorflow.keras import layers"
   ]
  },
  {
   "cell_type": "markdown",
   "id": "42a359dc-f9da-45c4-981a-259499ecffa6",
   "metadata": {},
   "source": [
    "# Generate Data"
   ]
  },
  {
   "cell_type": "code",
   "execution_count": 3,
   "id": "e0d46d1b-8533-4002-9c51-ab051a79269b",
   "metadata": {
    "execution": {
     "iopub.execute_input": "2022-09-06T03:28:21.282658Z",
     "iopub.status.busy": "2022-09-06T03:28:21.282447Z",
     "iopub.status.idle": "2022-09-06T03:28:33.130527Z",
     "shell.execute_reply": "2022-09-06T03:28:33.129132Z",
     "shell.execute_reply.started": "2022-09-06T03:28:21.282626Z"
    }
   },
   "outputs": [
    {
     "name": "stdout",
     "output_type": "stream",
     "text": [
      "Downloading data from https://storage.googleapis.com/tensorflow/tf-keras-datasets/train-labels-idx1-ubyte.gz\n",
      "32768/29515 [=================================] - 0s 1us/step\n",
      "40960/29515 [=========================================] - 0s 1us/step\n",
      "Downloading data from https://storage.googleapis.com/tensorflow/tf-keras-datasets/train-images-idx3-ubyte.gz\n",
      "26427392/26421880 [==============================] - 2s 0us/step\n",
      "26435584/26421880 [==============================] - 2s 0us/step\n",
      "Downloading data from https://storage.googleapis.com/tensorflow/tf-keras-datasets/t10k-labels-idx1-ubyte.gz\n",
      "16384/5148 [===============================================================================================] - 0s 0us/step\n",
      "Downloading data from https://storage.googleapis.com/tensorflow/tf-keras-datasets/t10k-images-idx3-ubyte.gz\n",
      "4423680/4422102 [==============================] - 1s 0us/step\n",
      "4431872/4422102 [==============================] - 1s 0us/step\n"
     ]
    }
   ],
   "source": [
    "fashion_mnist = keras.datasets.fashion_mnist\n",
    "(X_train_full, y_train_full), (X_test, y_test) = fashion_mnist.load_data()\n",
    "X_valid, X_train = X_train_full[:5000]/255.0, X_train_full[5000:]/255.0\n",
    "y_valid, y_train = y_train_full[:5000], y_train_full[5000:]"
   ]
  },
  {
   "cell_type": "markdown",
   "id": "01d0e7b7-5451-4d61-90ab-4d2fb9fa6eb3",
   "metadata": {},
   "source": [
    "# Define"
   ]
  },
  {
   "cell_type": "code",
   "execution_count": 4,
   "id": "e3315588-d6ce-4ce4-b5d5-187a65be9ee9",
   "metadata": {
    "execution": {
     "iopub.execute_input": "2022-09-06T03:28:33.131640Z",
     "iopub.status.busy": "2022-09-06T03:28:33.131436Z",
     "iopub.status.idle": "2022-09-06T03:28:33.181037Z",
     "shell.execute_reply": "2022-09-06T03:28:33.180620Z",
     "shell.execute_reply.started": "2022-09-06T03:28:33.131622Z"
    }
   },
   "outputs": [
    {
     "name": "stderr",
     "output_type": "stream",
     "text": [
      "2022-09-06 11:28:33.138248: I tensorflow/core/platform/cpu_feature_guard.cc:151] This TensorFlow binary is optimized with oneAPI Deep Neural Network Library (oneDNN) to use the following CPU instructions in performance-critical operations:  SSE4.1 SSE4.2 AVX AVX2 AVX512F FMA\n",
      "To enable them in other operations, rebuild TensorFlow with the appropriate compiler flags.\n",
      "2022-09-06 11:28:33.148188: I tensorflow/core/common_runtime/process_util.cc:146] Creating new thread pool with default inter op setting: 2. Tune using inter_op_parallelism_threads for best performance.\n"
     ]
    }
   ],
   "source": [
    "model = keras.models.Sequential()\n",
    "model.add(layers.Flatten(input_shape=[28, 28]))\n",
    "model.add(layers.Dense(300, activation=\"relu\"))\n",
    "model.add(layers.Dense(100, activation=\"relu\"))\n",
    "model.add(layers.Dense(10, activation=\"softmax\"))"
   ]
  },
  {
   "cell_type": "code",
   "execution_count": 5,
   "id": "fc8a9c4d-81fa-49c0-bd51-4ccffe742847",
   "metadata": {
    "execution": {
     "iopub.execute_input": "2022-09-06T03:28:33.181837Z",
     "iopub.status.busy": "2022-09-06T03:28:33.181662Z",
     "iopub.status.idle": "2022-09-06T03:28:33.190205Z",
     "shell.execute_reply": "2022-09-06T03:28:33.189830Z",
     "shell.execute_reply.started": "2022-09-06T03:28:33.181821Z"
    }
   },
   "outputs": [
    {
     "name": "stdout",
     "output_type": "stream",
     "text": [
      "Model: \"sequential\"\n",
      "_________________________________________________________________\n",
      " Layer (type)                Output Shape              Param #   \n",
      "=================================================================\n",
      " flatten (Flatten)           (None, 784)               0         \n",
      "                                                                 \n",
      " dense (Dense)               (None, 300)               235500    \n",
      "                                                                 \n",
      " dense_1 (Dense)             (None, 100)               30100     \n",
      "                                                                 \n",
      " dense_2 (Dense)             (None, 10)                1010      \n",
      "                                                                 \n",
      "=================================================================\n",
      "Total params: 266,610\n",
      "Trainable params: 266,610\n",
      "Non-trainable params: 0\n",
      "_________________________________________________________________\n"
     ]
    }
   ],
   "source": [
    "model.summary()"
   ]
  },
  {
   "cell_type": "markdown",
   "id": "9909d2ba-651e-41ea-b8ef-879e7fa78614",
   "metadata": {},
   "source": [
    "# Compile"
   ]
  },
  {
   "cell_type": "code",
   "execution_count": 6,
   "id": "7216730f-8505-4eee-8e44-e9502ae4da72",
   "metadata": {
    "execution": {
     "iopub.execute_input": "2022-09-06T03:28:33.190944Z",
     "iopub.status.busy": "2022-09-06T03:28:33.190781Z",
     "iopub.status.idle": "2022-09-06T03:28:33.197532Z",
     "shell.execute_reply": "2022-09-06T03:28:33.197174Z",
     "shell.execute_reply.started": "2022-09-06T03:28:33.190930Z"
    }
   },
   "outputs": [],
   "source": [
    "model.compile(loss=\"sparse_categorical_crossentropy\",\n",
    "\t\t\t  optimizer=\"sgd\", metrics=[\"accuracy\"])"
   ]
  },
  {
   "cell_type": "markdown",
   "id": "4feacf30-dd99-41a3-ba66-ee845da610ab",
   "metadata": {},
   "source": [
    "# Fit"
   ]
  },
  {
   "cell_type": "code",
   "execution_count": 7,
   "id": "9737c6e0-035d-46b0-810a-9ca2c96342f4",
   "metadata": {
    "execution": {
     "iopub.execute_input": "2022-09-06T03:28:33.198250Z",
     "iopub.status.busy": "2022-09-06T03:28:33.198088Z",
     "iopub.status.idle": "2022-09-06T03:37:12.108672Z",
     "shell.execute_reply": "2022-09-06T03:37:12.107480Z",
     "shell.execute_reply.started": "2022-09-06T03:28:33.198235Z"
    }
   },
   "outputs": [],
   "source": [
    "history = model.fit(X_train, y_train, epochs=10,\n",
    "\t\t\t\t\tvalidation_data=(X_valid, y_valid), \n",
    "                    verbose=0)"
   ]
  },
  {
   "cell_type": "code",
   "execution_count": 8,
   "id": "1811ce49-11ff-4937-8db5-7903ea1098a2",
   "metadata": {
    "execution": {
     "iopub.execute_input": "2022-09-06T03:37:12.110533Z",
     "iopub.status.busy": "2022-09-06T03:37:12.110244Z",
     "iopub.status.idle": "2022-09-06T03:37:12.356921Z",
     "shell.execute_reply": "2022-09-06T03:37:12.356451Z",
     "shell.execute_reply.started": "2022-09-06T03:37:12.110500Z"
    }
   },
   "outputs": [
    {
     "data": {
      "image/png": "[encoded data removed]",
      "text/plain": [
       "<Figure size 576x360 with 1 Axes>"
      ]
     },
     "metadata": {
      "needs_background": "light"
     },
     "output_type": "display_data"
    }
   ],
   "source": [
    "pd.DataFrame(history.history).plot(figsize=(8, 5))\n",
    "plt.grid(True)\n",
    "plt.gca().set_ylim(0, 1)\n",
    "plt.show()"
   ]
  },
  {
   "cell_type": "markdown",
   "id": "090d8744-9e6b-491c-bdfc-6b4d047639d8",
   "metadata": {},
   "source": [
    "# Evaluate"
   ]
  },
  {
   "cell_type": "code",
   "execution_count": 9,
   "id": "3c4e4a7a-b8fd-4b7e-ab7d-ed758f0ccec2",
   "metadata": {
    "execution": {
     "iopub.execute_input": "2022-09-06T03:37:12.357753Z",
     "iopub.status.busy": "2022-09-06T03:37:12.357563Z",
     "iopub.status.idle": "2022-09-06T03:37:16.157142Z",
     "shell.execute_reply": "2022-09-06T03:37:16.156254Z",
     "shell.execute_reply.started": "2022-09-06T03:37:12.357737Z"
    }
   },
   "outputs": [
    {
     "data": {
      "text/plain": [
       "[65.7397232055664, 0.8295000195503235]"
      ]
     },
     "execution_count": 9,
     "metadata": {},
     "output_type": "execute_result"
    }
   ],
   "source": [
    "model.evaluate(X_test, y_test, verbose=0)"
   ]
  },
  {
   "cell_type": "markdown",
   "id": "ff5cd502-1402-42f1-9bb2-880a42aa585f",
   "metadata": {},
   "source": [
    "# Predict"
   ]
  },
  {
   "cell_type": "code",
   "execution_count": 10,
   "id": "0cbcc773-6c82-4afb-bcfd-d0819cd521d3",
   "metadata": {
    "execution": {
     "iopub.execute_input": "2022-09-06T03:37:16.158819Z",
     "iopub.status.busy": "2022-09-06T03:37:16.158586Z",
     "iopub.status.idle": "2022-09-06T03:37:16.376469Z",
     "shell.execute_reply": "2022-09-06T03:37:16.375769Z",
     "shell.execute_reply.started": "2022-09-06T03:37:16.158790Z"
    }
   },
   "outputs": [
    {
     "data": {
      "text/plain": [
       "array([[0., 0., 0., 0., 0., 0., 0., 0., 0., 1.],\n",
       "       [0., 0., 1., 0., 0., 0., 0., 0., 0., 0.],\n",
       "       [0., 1., 0., 0., 0., 0., 0., 0., 0., 0.]], dtype=float32)"
      ]
     },
     "execution_count": 10,
     "metadata": {},
     "output_type": "execute_result"
    }
   ],
   "source": [
    "X_new = X_test[:3]\n",
    "y_proba = model.predict(X_new)\n",
    "y_proba.round(2)"
   ]
  },
  {
   "cell_type": "code",
   "execution_count": 11,
   "id": "4d842ee8-2841-4a51-954d-97a82fdc7c30",
   "metadata": {
    "execution": {
     "iopub.execute_input": "2022-09-06T03:37:16.377784Z",
     "iopub.status.busy": "2022-09-06T03:37:16.377504Z",
     "iopub.status.idle": "2022-09-06T03:37:16.906806Z",
     "shell.execute_reply": "2022-09-06T03:37:16.906116Z",
     "shell.execute_reply.started": "2022-09-06T03:37:16.377757Z"
    }
   },
   "outputs": [
    {
     "ename": "AttributeError",
     "evalue": "'Sequential' object has no attribute 'predict_classes'",
     "output_type": "error",
     "traceback": [
      "\u001b[0;31m---------------------------------------------------------------------------\u001b[0m",
      "\u001b[0;31mAttributeError\u001b[0m                            Traceback (most recent call last)",
      "Input \u001b[0;32mIn [11]\u001b[0m, in \u001b[0;36m<cell line: 1>\u001b[0;34m()\u001b[0m\n\u001b[0;32m----> 1\u001b[0m y_pred \u001b[38;5;241m=\u001b[39m \u001b[43mmodel\u001b[49m\u001b[38;5;241;43m.\u001b[39;49m\u001b[43mpredict_classes\u001b[49m(X_new)\n\u001b[1;32m      2\u001b[0m y_pred\n",
      "\u001b[0;31mAttributeError\u001b[0m: 'Sequential' object has no attribute 'predict_classes'"
     ]
    }
   ],
   "source": [
    "y_pred = model.predict_classes(X_new)\n",
    "y_pred"
   ]
  },
  {
   "cell_type": "code",
   "execution_count": null,
   "id": "598baf8c-ee07-42af-80a4-943ecae428d2",
   "metadata": {
    "execution": {
     "iopub.status.busy": "2022-09-06T03:37:16.907284Z",
     "iopub.status.idle": "2022-09-06T03:37:16.907475Z",
     "shell.execute_reply": "2022-09-06T03:37:16.907378Z",
     "shell.execute_reply.started": "2022-09-06T03:37:16.907368Z"
    }
   },
   "outputs": [],
   "source": [
    "y_test[:3]"
   ]
  },
  {
   "cell_type": "code",
   "execution_count": null,
   "id": "f8fd0dbc-e7e4-4622-9615-0bcbef02dc0c",
   "metadata": {},
   "outputs": [],
   "source": []
  }
 ],
 "metadata": {
  "kernelspec": {
   "display_name": "Python 3 (ipykernel)",
   "language": "python",
   "name": "python3"
  },
  "language_info": {
   "codemirror_mode": {
    "name": "ipython",
    "version": 3
   },
   "file_extension": ".py",
   "mimetype": "text/x-python",
   "name": "python",
   "nbconvert_exporter": "python",
   "pygments_lexer": "ipython3",
   "version": "3.9.12"
  },
  "toc-autonumbering": true
 },
 "nbformat": 4,
 "nbformat_minor": 5
}
