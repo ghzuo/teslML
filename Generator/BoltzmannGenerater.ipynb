{
 "cells": [
  {
   "cell_type": "code",
   "execution_count": 15,
   "id": "ccf44e03-272e-47d7-84a6-b82a4d543c7d",
   "metadata": {
    "execution": {
     "iopub.execute_input": "2022-09-07T03:11:44.094411Z",
     "iopub.status.busy": "2022-09-07T03:11:44.094203Z",
     "iopub.status.idle": "2022-09-07T03:11:45.311587Z",
     "shell.execute_reply": "2022-09-07T03:11:45.311188Z",
     "shell.execute_reply.started": "2022-09-07T03:11:44.094360Z"
    },
    "tags": []
   },
   "outputs": [],
   "source": [
    "import torch\n",
    "import torch.nn as nn\n",
    "import torch.nn.functional as F\n",
    "import numpy as np\n",
    "import torch.utils.data as Data\n",
    "from torch.nn import init\n",
    "import torch.optim as optim\n",
    "\n",
    "from importlib import reload\n",
    "import pytorch as pts"
   ]
  },
  {
   "cell_type": "code",
   "execution_count": 29,
   "id": "dfb5a1f2-c13d-4527-a681-41f6b2d46c97",
   "metadata": {
    "execution": {
     "iopub.execute_input": "2022-09-07T03:11:45.312470Z",
     "iopub.status.busy": "2022-09-07T03:11:45.312275Z",
     "iopub.status.idle": "2022-09-07T03:11:45.315649Z",
     "shell.execute_reply": "2022-09-07T03:11:45.315292Z",
     "shell.execute_reply.started": "2022-09-07T03:11:45.312453Z"
    }
   },
   "outputs": [
    {
     "name": "stdout",
     "output_type": "stream",
     "text": [
      "1.10.2\n"
     ]
    }
   ],
   "source": [
    "torch.manual_seed(1)\n",
    "print(torch.__version__)\n",
    "torch.set_default_tensor_type(\"torch.FloatTensor\")"
   ]
  },
  {
   "cell_type": "markdown",
   "id": "46822d1e-6525-406a-9724-c05afea8f172",
   "metadata": {},
   "source": [
    "# Generate Data"
   ]
  },
  {
   "cell_type": "code",
   "execution_count": 30,
   "id": "1a1d9ef9-a0ab-4a8b-93ca-9c25952883dd",
   "metadata": {
    "execution": {
     "iopub.execute_input": "2022-09-07T03:11:45.317004Z",
     "iopub.status.busy": "2022-09-07T03:11:45.316802Z",
     "iopub.status.idle": "2022-09-07T03:11:45.320131Z",
     "shell.execute_reply": "2022-09-07T03:11:45.319790Z",
     "shell.execute_reply.started": "2022-09-07T03:11:45.316990Z"
    },
    "tags": []
   },
   "outputs": [],
   "source": [
    "num_inputs = 2\n",
    "num_examples = 1000\n",
    "true_w = np.array([[2, -3.4]])\n",
    "true_b = 4.2\n",
    "features = np.random.normal(0, 1, (num_examples, num_inputs))\n",
    "labels = np.dot(features, true_w.T) + true_b \n",
    "labels += np.random.normal(0, 0.01, (num_examples, 1))\n",
    "lables = labels.reshape(num_examples)"
   ]
  },
  {
   "cell_type": "markdown",
   "id": "d35276c5-d7bb-4290-ba49-76f1aa5dbd43",
   "metadata": {},
   "source": [
    "# Read Data"
   ]
  },
  {
   "cell_type": "code",
   "execution_count": 32,
   "id": "3336a3d7-1448-4265-be82-ad2a2d081dae",
   "metadata": {
    "execution": {
     "iopub.execute_input": "2022-09-07T03:11:45.467630Z",
     "iopub.status.busy": "2022-09-07T03:11:45.467457Z",
     "iopub.status.idle": "2022-09-07T03:11:45.483604Z",
     "shell.execute_reply": "2022-09-07T03:11:45.483268Z",
     "shell.execute_reply.started": "2022-09-07T03:11:45.467616Z"
    },
    "tags": []
   },
   "outputs": [],
   "source": [
    "features = torch.tensor(features, dtype=torch.float)\n",
    "labels = torch.tensor(lables, dtype=torch.float)\n",
    "data_iter = pts.pack_data(features, labels)"
   ]
  },
  {
   "cell_type": "markdown",
   "id": "b7784c1b-9c71-4432-b23b-b84c17f022b9",
   "metadata": {},
   "source": [
    "# Define Model"
   ]
  },
  {
   "cell_type": "code",
   "execution_count": 33,
   "id": "322daac7-c875-4cba-8bd7-8381978f56f0",
   "metadata": {
    "execution": {
     "iopub.execute_input": "2022-09-07T03:11:45.484334Z",
     "iopub.status.busy": "2022-09-07T03:11:45.484173Z",
     "iopub.status.idle": "2022-09-07T03:11:45.487667Z",
     "shell.execute_reply": "2022-09-07T03:11:45.487318Z",
     "shell.execute_reply.started": "2022-09-07T03:11:45.484320Z"
    }
   },
   "outputs": [],
   "source": [
    "# 写法一\n",
    "net = nn.Sequential(\n",
    "    nn.Linear(num_inputs, 1)\n",
    "    # 此处还可以传入其他层\n",
    "    )\n",
    "\n",
    "# 写法二\n",
    "net = nn.Sequential()\n",
    "net.add_module('linear', nn.Linear(num_inputs, 1))\n",
    "# net.add_module ......\n",
    "\n",
    "# 写法三\n",
    "from collections import OrderedDict\n",
    "net = nn.Sequential(OrderedDict([\n",
    "          ('linear', nn.Linear(num_inputs, 1))\n",
    "          # ......\n",
    "        ]))"
   ]
  },
  {
   "cell_type": "markdown",
   "id": "a2e61899-4a7d-42f7-91a6-06476f52b7cc",
   "metadata": {
    "execution": {
     "iopub.execute_input": "2022-09-06T12:24:12.120515Z",
     "iopub.status.busy": "2022-09-06T12:24:12.120234Z",
     "iopub.status.idle": "2022-09-06T12:24:12.124126Z",
     "shell.execute_reply": "2022-09-06T12:24:12.123722Z",
     "shell.execute_reply.started": "2022-09-06T12:24:12.120495Z"
    },
    "tags": []
   },
   "source": [
    "## Loss Function"
   ]
  },
  {
   "cell_type": "code",
   "execution_count": 36,
   "id": "5d8b3784-d8d9-4eb5-a6d7-3c5711a6c6a0",
   "metadata": {
    "execution": {
     "iopub.execute_input": "2022-09-07T03:11:45.502502Z",
     "iopub.status.busy": "2022-09-07T03:11:45.502207Z",
     "iopub.status.idle": "2022-09-07T03:11:45.504830Z",
     "shell.execute_reply": "2022-09-07T03:11:45.504378Z",
     "shell.execute_reply.started": "2022-09-07T03:11:45.502485Z"
    }
   },
   "outputs": [],
   "source": [
    "loss = nn.MSELoss()"
   ]
  },
  {
   "cell_type": "markdown",
   "id": "8a5cbed5-2ba6-4354-8569-532771cb76c2",
   "metadata": {},
   "source": [
    "## Optimization Algorithm"
   ]
  },
  {
   "cell_type": "code",
   "execution_count": 37,
   "id": "9f5a47f5-04df-4b01-8b46-47530c095e85",
   "metadata": {
    "execution": {
     "iopub.execute_input": "2022-09-07T03:11:45.505794Z",
     "iopub.status.busy": "2022-09-07T03:11:45.505488Z",
     "iopub.status.idle": "2022-09-07T03:11:45.509063Z",
     "shell.execute_reply": "2022-09-07T03:11:45.508569Z",
     "shell.execute_reply.started": "2022-09-07T03:11:45.505777Z"
    },
    "tags": []
   },
   "outputs": [
    {
     "name": "stdout",
     "output_type": "stream",
     "text": [
      "SGD (\n",
      "Parameter Group 0\n",
      "    dampening: 0\n",
      "    lr: 0.03\n",
      "    momentum: 0\n",
      "    nesterov: False\n",
      "    weight_decay: 0\n",
      ")\n"
     ]
    }
   ],
   "source": [
    "optimizer = optim.SGD(net.parameters(), lr=0.03)\n",
    "\n",
    "# 为不同子网络设置不同的学习率\n",
    "# optimizer =optim.SGD([\n",
    "#                 # 如果对某个参数不指定学习率，就使用最外层的默认学习率\n",
    "#                 {'params': net.subnet1.parameters()}, # lr=0.03\n",
    "#                 {'params': net.subnet2.parameters(), 'lr': 0.01}\n",
    "#             ], lr=0.03)\n",
    "# # 调整学习率\n",
    "# for param_group in optimizer.param_groups:\n",
    "#     param_group['lr'] *= 0.1 # 学习率为之前的0.1倍\n",
    "print(optimizer)"
   ]
  },
  {
   "cell_type": "markdown",
   "id": "df0bc42b-dacd-4744-a842-8cb35e0d4f8b",
   "metadata": {},
   "source": [
    "## Fit Model"
   ]
  },
  {
   "cell_type": "code",
   "execution_count": 38,
   "id": "edd2fc10-b7ca-4922-afd0-f19b3b8f63c3",
   "metadata": {
    "execution": {
     "iopub.execute_input": "2022-09-07T03:11:45.510049Z",
     "iopub.status.busy": "2022-09-07T03:11:45.509743Z",
     "iopub.status.idle": "2022-09-07T03:11:46.015213Z",
     "shell.execute_reply": "2022-09-07T03:11:46.014709Z",
     "shell.execute_reply.started": "2022-09-07T03:11:45.510032Z"
    },
    "tags": []
   },
   "outputs": [
    {
     "name": "stdout",
     "output_type": "stream",
     "text": [
      "epoch 1, loss: 0.000103\n",
      "epoch 2, loss: 0.000100\n",
      "epoch 3, loss: 0.000055\n",
      "epoch 4, loss: 0.000073\n"
     ]
    }
   ],
   "source": [
    "## 使用缺省的训练模型\n",
    "#pts.fit(net, data_iter)  ## 使用缺省的损失函数与优化器\n",
    "pts.fit(net, data_iter, loss, optimizer, 4)"
   ]
  },
  {
   "cell_type": "markdown",
   "id": "f1c2d864-8345-4fbf-93b0-b3f8626ff0a1",
   "metadata": {},
   "source": [
    "## The Results"
   ]
  },
  {
   "cell_type": "code",
   "execution_count": 39,
   "id": "f1faa1a1-23ca-4257-86f6-29feeb6cfd61",
   "metadata": {
    "execution": {
     "iopub.execute_input": "2022-09-07T03:11:46.017248Z",
     "iopub.status.busy": "2022-09-07T03:11:46.016974Z",
     "iopub.status.idle": "2022-09-07T03:11:46.027603Z",
     "shell.execute_reply": "2022-09-07T03:11:46.027126Z",
     "shell.execute_reply.started": "2022-09-07T03:11:46.017226Z"
    },
    "tags": []
   },
   "outputs": [
    {
     "name": "stdout",
     "output_type": "stream",
     "text": [
      "[[ 2.  -3.4]] \t tensor([[ 2.0001, -3.4002]])\n",
      "4.2 \t tensor([4.1998])\n"
     ]
    }
   ],
   "source": [
    "dense = net.linear\n",
    "print(true_w, \"\\t\", dense.weight.data)\n",
    "print(true_b, \"\\t\", dense.bias.data)"
   ]
  }
 ],
 "metadata": {
  "kernelspec": {
   "display_name": "Python 3.9.12 ('base')",
   "language": "python",
   "name": "python3"
  },
  "language_info": {
   "codemirror_mode": {
    "name": "ipython",
    "version": 3
   },
   "file_extension": ".py",
   "mimetype": "text/x-python",
   "name": "python",
   "nbconvert_exporter": "python",
   "pygments_lexer": "ipython3",
   "version": "3.9.12"
  },
  "vscode": {
   "interpreter": {
    "hash": "7195f4763546f88080f5d98714b9c785345bf8010f0249993102a4567423214b"
   }
  }
 },
 "nbformat": 4,
 "nbformat_minor": 5
}
