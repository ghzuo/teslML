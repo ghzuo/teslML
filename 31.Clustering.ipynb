{
 "cells": [
  {
   "cell_type": "code",
   "execution_count": 1,
   "metadata": {
    "ExecuteTime": {
     "end_time": "2020-09-13T01:57:28.912003Z",
     "start_time": "2020-09-13T01:57:28.704144Z"
    }
   },
   "outputs": [],
   "source": [
    "# Basic set of Python Data Analysis\n",
    "import numpy as np\n",
    "import pandas as pd\n",
    "\n",
    "## for plot by matplotlib\n",
    "import matplotlib.pyplot as plt\n",
    "from matplotlib import cm\n",
    "import seaborn as sns\n",
    "%matplotlib inline\n",
    "\n",
    "from cycler import cycler\n",
    "sns.set(font=\"DejaVu Sans\", font_scale=1.8,\n",
    "        rc={'figure.figsize':(10,10), \n",
    "            'lines.markersize':15, \n",
    "            \"animation.embed_limit\":100})\n",
    "sns.mpl.rc(\"axes\", prop_cycle=cycler('color',\n",
    "        ['#E24A33', '#348ABD', '#988ED5', \n",
    "         '#777777', '#FBC15E', '#8EBA42',\n",
    "         '#FFB5B8']))\n",
    "\n",
    "## don't show warning\n",
    "import warnings\n",
    "warnings.filterwarnings('ignore')"
   ]
  },
  {
   "cell_type": "code",
   "execution_count": null,
   "metadata": {},
   "outputs": [],
   "source": [
    "## for generate data\n",
    "from sklearn.datasets import make_moons\n",
    "\n",
    "## for machine learning with scikit learn\n",
    "from sklearn.cluster import \n",
    "from sklearn.cluster import \n",
    "from sklearn.cluster import"
   ]
  },
  {
   "cell_type": "markdown",
   "metadata": {},
   "source": [
    "# Generate Data"
   ]
  },
  {
   "cell_type": "code",
   "execution_count": null,
   "metadata": {},
   "outputs": [],
   "source": [
    "X, y = make_moons(n_samples=1000, noise=0.05)"
   ]
  }
 ],
 "metadata": {
  "kernelspec": {
   "display_name": "Python 3",
   "language": "python",
   "name": "python3"
  },
  "language_info": {
   "codemirror_mode": {
    "name": "ipython",
    "version": 3
   },
   "file_extension": ".py",
   "mimetype": "text/x-python",
   "name": "python",
   "nbconvert_exporter": "python",
   "pygments_lexer": "ipython3",
   "version": "3.7.7"
  },
  "toc": {
   "base_numbering": 1,
   "nav_menu": {},
   "number_sections": true,
   "sideBar": true,
   "skip_h1_title": false,
   "title_cell": "Table of Contents",
   "title_sidebar": "Contents",
   "toc_cell": false,
   "toc_position": {},
   "toc_section_display": true,
   "toc_window_display": true
  },
  "toc-autonumbering": true
 },
 "nbformat": 4,
 "nbformat_minor": 4
}
